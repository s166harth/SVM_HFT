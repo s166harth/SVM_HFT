{
 "cells": [
  {
   "cell_type": "markdown",
   "metadata": {},
   "source": [
    "# Data Exploration of GOOG/GOOGL Ticker Dataset\n",
    "\n",
    "The notebook will compile and explore the GOOG/GOOGL Ticker Dataset that will be used in future analysis to capture statistical arbitrage. \n",
    "\n",
    "We will analyze the stocks of GOOG and GOOGL, which are Alphabet's dual listed class A and class C stocks. This pair should share as very many intrinsic characteristics, with the exception of voting rights. "
   ]
  },
  {
   "cell_type": "code",
   "execution_count": 7,
   "metadata": {},
   "outputs": [
    {
     "name": "stdout",
     "output_type": "stream",
     "text": [
      "The autoreload extension is already loaded. To reload it, use:\n",
      "  %reload_ext autoreload\n"
     ]
    }
   ],
   "source": [
    "import pandas as pd\n",
    "import numpy as np\n",
    "\n",
    "import matplotlib.pyplot as plt\n",
    "import matplotlib.dates as dates\n",
    "import matplotlib.ticker as ticker\n",
    "import datetime\n",
    "\n",
    "import glob\n",
    "\n",
    "%load_ext autoreload\n",
    "%autoreload 2"
   ]
  },
  {
   "cell_type": "code",
   "execution_count": 8,
   "metadata": {},
   "outputs": [],
   "source": [
    "df_ticker = pd.DataFrame()\n",
    "\n",
    "for file in glob.glob(\"./data/raw_ticker_data/*\"):\n",
    "    columns = [\"DATE\", \"TIME\", \"OPEN\", \"HIGH\", \"LOW\", \"CLOSE\", \"VOLUME\", \"SPLITS\", \"EARNINGS\", \"DIVIDENDS\"]\n",
    "    \n",
    "    goog_tmp = pd.read_csv(file + \"/table_goog.csv\", header=0, names=columns)\n",
    "    googl_tmp = pd.read_csv(file + \"/table_googl.csv\", header=0, names=columns)\n",
    "    \n",
    "    goog_tmp['TICKER'] = \"GOOG\"\n",
    "    googl_tmp['TICKER'] = \"GOOGL\"\n",
    "    \n",
    "    df_ticker = df_ticker.append(goog_tmp, ignore_index=True)\n",
    "    df_ticker = df_ticker.append(googl_tmp, ignore_index=True)"
   ]
  },
  {
   "cell_type": "markdown",
   "metadata": {},
   "source": [
    "# Data Exploration"
   ]
  },
  {
   "cell_type": "markdown",
   "metadata": {},
   "source": [
    "Our dataset contains snapshots of GOOG and GOOGL over the span of roughly 2 years at the minute-level resolution. \n",
    "\n",
    "Our data was gathered from QuantQuote.com, a reputable dealer of fine-resolution ticker datasets. "
   ]
  },
  {
   "cell_type": "code",
   "execution_count": 9,
   "metadata": {
    "scrolled": false
   },
   "outputs": [
    {
     "name": "stdout",
     "output_type": "stream",
     "text": [
      "<class 'pandas.core.frame.DataFrame'>\n",
      "Index: 0 entries\n",
      "Empty DataFrame\n"
     ]
    }
   ],
   "source": [
    "df_ticker.info()"
   ]
  },
  {
   "cell_type": "code",
   "execution_count": 10,
   "metadata": {},
   "outputs": [
    {
     "data": {
      "text/plain": [
       "Text(0.5, 1.0, 'Number of NaNs per column')"
      ]
     },
     "execution_count": 10,
     "metadata": {},
     "output_type": "execute_result"
    },
    {
     "data": {
      "image/png": "[encoded data removed]",
      "text/plain": [
       "<Figure size 640x480 with 1 Axes>"
      ]
     },
     "metadata": {},
     "output_type": "display_data"
    }
   ],
   "source": [
    "plt.figure()\n",
    "\n",
    "cols = df_ticker.columns\n",
    "counts = [df_ticker[x].isna().sum() for x in cols]\n",
    "\n",
    "plt.bar(cols, counts)\n",
    "plt.title(\"Number of NaNs per column\")"
   ]
  },
  {
   "cell_type": "code",
   "execution_count": 11,
   "metadata": {},
   "outputs": [],
   "source": [
    "def convert_datetime(date, time):\n",
    "    ymd = date.astype(\"str\")\n",
    "    hm = time.astype(\"str\")\n",
    "    year = ymd.apply(lambda x: x[:4])\n",
    "    month = ymd.apply(lambda x: x[4:6])\n",
    "    day = ymd.apply(lambda x: x[6:])\n",
    "    hour = hm.apply(lambda x: x[:-2])\n",
    "    minute = hm.apply(lambda x: x[-2:])\n",
    "\n",
    "    return pd.to_datetime(dict(year=year, month=month, day=day, hour=hour, minute=minute))"
   ]
  },
  {
   "cell_type": "code",
   "execution_count": 12,
   "metadata": {
    "scrolled": true
   },
   "outputs": [
    {
     "ename": "KeyError",
     "evalue": "'DATE'",
     "output_type": "error",
     "traceback": [
      "\u001b[0;31m---------------------------------------------------------------------------\u001b[0m",
      "\u001b[0;31mKeyError\u001b[0m                                  Traceback (most recent call last)",
      "File \u001b[0;32m~/.local/lib/python3.10/site-packages/pandas/core/indexes/base.py:3803\u001b[0m, in \u001b[0;36mIndex.get_loc\u001b[0;34m(self, key, method, tolerance)\u001b[0m\n\u001b[1;32m   3802\u001b[0m \u001b[38;5;28;01mtry\u001b[39;00m:\n\u001b[0;32m-> 3803\u001b[0m     \u001b[38;5;28;01mreturn\u001b[39;00m \u001b[38;5;28;43mself\u001b[39;49m\u001b[38;5;241;43m.\u001b[39;49m\u001b[43m_engine\u001b[49m\u001b[38;5;241;43m.\u001b[39;49m\u001b[43mget_loc\u001b[49m\u001b[43m(\u001b[49m\u001b[43mcasted_key\u001b[49m\u001b[43m)\u001b[49m\n\u001b[1;32m   3804\u001b[0m \u001b[38;5;28;01mexcept\u001b[39;00m \u001b[38;5;167;01mKeyError\u001b[39;00m \u001b[38;5;28;01mas\u001b[39;00m err:\n",
      "File \u001b[0;32m~/.local/lib/python3.10/site-packages/pandas/_libs/index.pyx:138\u001b[0m, in \u001b[0;36mpandas._libs.index.IndexEngine.get_loc\u001b[0;34m()\u001b[0m\n",
      "File \u001b[0;32m~/.local/lib/python3.10/site-packages/pandas/_libs/index.pyx:165\u001b[0m, in \u001b[0;36mpandas._libs.index.IndexEngine.get_loc\u001b[0;34m()\u001b[0m\n",
      "File \u001b[0;32mpandas/_libs/hashtable_class_helper.pxi:5745\u001b[0m, in \u001b[0;36mpandas._libs.hashtable.PyObjectHashTable.get_item\u001b[0;34m()\u001b[0m\n",
      "File \u001b[0;32mpandas/_libs/hashtable_class_helper.pxi:5753\u001b[0m, in \u001b[0;36mpandas._libs.hashtable.PyObjectHashTable.get_item\u001b[0;34m()\u001b[0m\n",
      "\u001b[0;31mKeyError\u001b[0m: 'DATE'",
      "\nThe above exception was the direct cause of the following exception:\n",
      "\u001b[0;31mKeyError\u001b[0m                                  Traceback (most recent call last)",
      "Cell \u001b[0;32mIn [12], line 1\u001b[0m\n\u001b[0;32m----> 1\u001b[0m df_ticker[\u001b[38;5;124m\"\u001b[39m\u001b[38;5;124mTIMESTAMP\u001b[39m\u001b[38;5;124m\"\u001b[39m] \u001b[38;5;241m=\u001b[39m convert_datetime(\u001b[43mdf_ticker\u001b[49m\u001b[43m[\u001b[49m\u001b[38;5;124;43m'\u001b[39;49m\u001b[38;5;124;43mDATE\u001b[39;49m\u001b[38;5;124;43m'\u001b[39;49m\u001b[43m]\u001b[49m, df_ticker[\u001b[38;5;124m'\u001b[39m\u001b[38;5;124mTIME\u001b[39m\u001b[38;5;124m'\u001b[39m])\n\u001b[1;32m      3\u001b[0m df_ticker \u001b[38;5;241m=\u001b[39m df_ticker\u001b[38;5;241m.\u001b[39msort_values(by\u001b[38;5;241m=\u001b[39m\u001b[38;5;124m'\u001b[39m\u001b[38;5;124mTIMESTAMP\u001b[39m\u001b[38;5;124m'\u001b[39m)\n\u001b[1;32m      5\u001b[0m df_goog \u001b[38;5;241m=\u001b[39m df_ticker\u001b[38;5;241m.\u001b[39mquery(\u001b[38;5;124m\"\u001b[39m\u001b[38;5;124mTICKER ==\u001b[39m\u001b[38;5;124m'\u001b[39m\u001b[38;5;124mGOOG\u001b[39m\u001b[38;5;124m'\u001b[39m\u001b[38;5;124m\"\u001b[39m)\u001b[38;5;241m.\u001b[39mreset_index()\n",
      "File \u001b[0;32m~/.local/lib/python3.10/site-packages/pandas/core/frame.py:3805\u001b[0m, in \u001b[0;36mDataFrame.__getitem__\u001b[0;34m(self, key)\u001b[0m\n\u001b[1;32m   3803\u001b[0m \u001b[38;5;28;01mif\u001b[39;00m \u001b[38;5;28mself\u001b[39m\u001b[38;5;241m.\u001b[39mcolumns\u001b[38;5;241m.\u001b[39mnlevels \u001b[38;5;241m>\u001b[39m \u001b[38;5;241m1\u001b[39m:\n\u001b[1;32m   3804\u001b[0m     \u001b[38;5;28;01mreturn\u001b[39;00m \u001b[38;5;28mself\u001b[39m\u001b[38;5;241m.\u001b[39m_getitem_multilevel(key)\n\u001b[0;32m-> 3805\u001b[0m indexer \u001b[38;5;241m=\u001b[39m \u001b[38;5;28;43mself\u001b[39;49m\u001b[38;5;241;43m.\u001b[39;49m\u001b[43mcolumns\u001b[49m\u001b[38;5;241;43m.\u001b[39;49m\u001b[43mget_loc\u001b[49m\u001b[43m(\u001b[49m\u001b[43mkey\u001b[49m\u001b[43m)\u001b[49m\n\u001b[1;32m   3806\u001b[0m \u001b[38;5;28;01mif\u001b[39;00m is_integer(indexer):\n\u001b[1;32m   3807\u001b[0m     indexer \u001b[38;5;241m=\u001b[39m [indexer]\n",
      "File \u001b[0;32m~/.local/lib/python3.10/site-packages/pandas/core/indexes/base.py:3805\u001b[0m, in \u001b[0;36mIndex.get_loc\u001b[0;34m(self, key, method, tolerance)\u001b[0m\n\u001b[1;32m   3803\u001b[0m     \u001b[38;5;28;01mreturn\u001b[39;00m \u001b[38;5;28mself\u001b[39m\u001b[38;5;241m.\u001b[39m_engine\u001b[38;5;241m.\u001b[39mget_loc(casted_key)\n\u001b[1;32m   3804\u001b[0m \u001b[38;5;28;01mexcept\u001b[39;00m \u001b[38;5;167;01mKeyError\u001b[39;00m \u001b[38;5;28;01mas\u001b[39;00m err:\n\u001b[0;32m-> 3805\u001b[0m     \u001b[38;5;28;01mraise\u001b[39;00m \u001b[38;5;167;01mKeyError\u001b[39;00m(key) \u001b[38;5;28;01mfrom\u001b[39;00m \u001b[38;5;21;01merr\u001b[39;00m\n\u001b[1;32m   3806\u001b[0m \u001b[38;5;28;01mexcept\u001b[39;00m \u001b[38;5;167;01mTypeError\u001b[39;00m:\n\u001b[1;32m   3807\u001b[0m     \u001b[38;5;66;03m# If we have a listlike key, _check_indexing_error will raise\u001b[39;00m\n\u001b[1;32m   3808\u001b[0m     \u001b[38;5;66;03m#  InvalidIndexError. Otherwise we fall through and re-raise\u001b[39;00m\n\u001b[1;32m   3809\u001b[0m     \u001b[38;5;66;03m#  the TypeError.\u001b[39;00m\n\u001b[1;32m   3810\u001b[0m     \u001b[38;5;28mself\u001b[39m\u001b[38;5;241m.\u001b[39m_check_indexing_error(key)\n",
      "\u001b[0;31mKeyError\u001b[0m: 'DATE'"
     ]
    }
   ],
   "source": [
    "df_ticker[\"TIMESTAMP\"] = convert_datetime(df_ticker['DATE'], df_ticker['TIME'])\n",
    "\n",
    "df_ticker = df_ticker.sort_values(by='TIMESTAMP')\n",
    "\n",
    "df_goog = df_ticker.query(\"TICKER =='GOOG'\").reset_index()\n",
    "df_googl = df_ticker.query(\"TICKER =='GOOGL'\").reset_index()"
   ]
  },
  {
   "cell_type": "code",
   "execution_count": null,
   "metadata": {
    "scrolled": true
   },
   "outputs": [],
   "source": [
    "print(df_goog.shape)\n",
    "print(df_googl.shape)"
   ]
  },
  {
   "cell_type": "markdown",
   "metadata": {},
   "source": [
    "The GOOG dataset has a different length than the GOOGL dataset, indicating that these dataframes have missing rows. \n",
    "\n",
    "From the QuantQuote website: \n",
    "\n",
    "Missing data for certain minutes generally means that no trades occurred during that minute. This can happen for less liquid equities which are not frequently traded. There are also situations where trades were cancelled by the exchange after being flagged by regulators or trading is halted in advance of major announcements.\n",
    "\n",
    "Therefore, we should attempt to fill in these columns with duplicate values for the price and 0 volume for the sake of our time series analysis. "
   ]
  },
  {
   "cell_type": "code",
   "execution_count": null,
   "metadata": {},
   "outputs": [],
   "source": [
    "goog_missing_times = set(df_goog.TIMESTAMP).difference(set(df_googl.TIMESTAMP))\n",
    "\n",
    "googl_missing_times = set(df_googl.TIMESTAMP).difference(set(df_goog.TIMESTAMP))\n",
    "\n",
    "total_missing_times = goog_missing_times.union(googl_missing_times)"
   ]
  },
  {
   "cell_type": "code",
   "execution_count": null,
   "metadata": {},
   "outputs": [],
   "source": [
    "df_ticker = df_ticker[~df_ticker.TIMESTAMP.isin(total_missing_times)]"
   ]
  },
  {
   "cell_type": "code",
   "execution_count": null,
   "metadata": {},
   "outputs": [],
   "source": [
    "df_goog = df_ticker.query(\"TICKER =='GOOG'\").reset_index()\n",
    "df_googl = df_ticker.query(\"TICKER =='GOOGL'\").reset_index()\n",
    "\n",
    "print(df_goog.shape)\n",
    "print(df_googl.shape)"
   ]
  },
  {
   "cell_type": "code",
   "execution_count": null,
   "metadata": {
    "scrolled": false
   },
   "outputs": [],
   "source": [
    "plt.figure(figsize=(12, 8))\n",
    "\n",
    "plt.plot(df_goog[\"TIMESTAMP\"], df_goog[\"CLOSE\"], color='green', alpha=0.5, label='GOOG')\n",
    "plt.plot(df_googl[\"TIMESTAMP\"], df_googl[\"CLOSE\"], color='blue', alpha=0.5, label='GOOGL')\n",
    "\n",
    "plt.title('GOOG vs. GOOGL intra-day closing prices', fontsize=20)\n",
    "plt.xlabel('DATE', fontsize=16)\n",
    "plt.ylabel('PRICE', fontsize=16)\n",
    "\n",
    "plt.grid()"
   ]
  },
  {
   "cell_type": "markdown",
   "metadata": {},
   "source": [
    "It can be seen here that the relationship between GOOGL and GOOG shifts through our timeframe. The spread of the pricing of the stock has become narrower as time has progressed. \n",
    "\n",
    "This means that any potential means of capturing statistical arbitrage should factor this shift throughout time and adjust accordingly. "
   ]
  },
  {
   "cell_type": "code",
   "execution_count": null,
   "metadata": {},
   "outputs": [],
   "source": [
    "df_goog.to_csv('./df_goog.csv')\n",
    "df_googl.to_csv('./df_googl.csv')"
   ]
  }
 ],
 "metadata": {
  "kernelspec": {
   "display_name": "Python 3 (ipykernel)",
   "language": "python",
   "name": "python3"
  },
  "language_info": {
   "codemirror_mode": {
    "name": "ipython",
    "version": 3
   },
   "file_extension": ".py",
   "mimetype": "text/x-python",
   "name": "python",
   "nbconvert_exporter": "python",
   "pygments_lexer": "ipython3",
   "version": "3.10.6"
  }
 },
 "nbformat": 4,
 "nbformat_minor": 2
}
